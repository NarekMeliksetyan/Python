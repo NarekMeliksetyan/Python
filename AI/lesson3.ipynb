{
 "cells": [
  {
   "cell_type": "markdown",
   "metadata": {},
   "source": [
    "### Основы NumPy"
   ]
  },
  {
   "cell_type": "markdown",
   "metadata": {},
   "source": [
    "1) Импортировать NumPy под именем np"
   ]
  },
  {
   "cell_type": "code",
   "execution_count": 146,
   "metadata": {},
   "outputs": [],
   "source": [
    "import numpy as np"
   ]
  },
  {
   "cell_type": "markdown",
   "metadata": {},
   "source": [
    "2) Напечатать версию и конфигурацию"
   ]
  },
  {
   "cell_type": "code",
   "execution_count": 147,
   "metadata": {},
   "outputs": [
    {
     "name": "stdout",
     "output_type": "stream",
     "text": [
      "1.18.1\n",
      "blas_mkl_info:\n",
      "  NOT AVAILABLE\n",
      "blis_info:\n",
      "  NOT AVAILABLE\n",
      "openblas_info:\n",
      "    libraries = ['openblas', 'openblas']\n",
      "    library_dirs = ['/usr/local/lib']\n",
      "    language = c\n",
      "    define_macros = [('HAVE_CBLAS', None)]\n",
      "blas_opt_info:\n",
      "    libraries = ['openblas', 'openblas']\n",
      "    library_dirs = ['/usr/local/lib']\n",
      "    language = c\n",
      "    define_macros = [('HAVE_CBLAS', None)]\n",
      "lapack_mkl_info:\n",
      "  NOT AVAILABLE\n",
      "openblas_lapack_info:\n",
      "    libraries = ['openblas', 'openblas']\n",
      "    library_dirs = ['/usr/local/lib']\n",
      "    language = c\n",
      "    define_macros = [('HAVE_CBLAS', None)]\n",
      "lapack_opt_info:\n",
      "    libraries = ['openblas', 'openblas']\n",
      "    library_dirs = ['/usr/local/lib']\n",
      "    language = c\n",
      "    define_macros = [('HAVE_CBLAS', None)]\n"
     ]
    }
   ],
   "source": [
    "print(np.__version__)\n",
    "np.show_config()"
   ]
  },
  {
   "cell_type": "markdown",
   "metadata": {},
   "source": [
    "3) Создать вектор (одномерный массив) размера 10, заполненный нулями"
   ]
  },
  {
   "cell_type": "code",
   "execution_count": 148,
   "metadata": {},
   "outputs": [
    {
     "name": "stdout",
     "output_type": "stream",
     "text": [
      "[0 0 0 0 0 0 0 0 0 0]\n"
     ]
    }
   ],
   "source": [
    "vec = np.zeros(10, dtype=int)\n",
    "print(vec)"
   ]
  },
  {
   "cell_type": "markdown",
   "metadata": {},
   "source": [
    "4) Создать вектор размера 10, заполненный единицами"
   ]
  },
  {
   "cell_type": "code",
   "execution_count": 149,
   "metadata": {},
   "outputs": [
    {
     "name": "stdout",
     "output_type": "stream",
     "text": [
      "[1 1 1 1 1 1 1 1 1 1]\n"
     ]
    }
   ],
   "source": [
    "vec = np.ones(10, dtype=int)\n",
    "print(vec)"
   ]
  },
  {
   "cell_type": "markdown",
   "metadata": {},
   "source": [
    "5) Создать вектор размера 10, заполненный числом 2.5"
   ]
  },
  {
   "cell_type": "code",
   "execution_count": 150,
   "metadata": {},
   "outputs": [
    {
     "name": "stdout",
     "output_type": "stream",
     "text": [
      "[2.5 2.5 2.5 2.5 2.5 2.5 2.5 2.5 2.5 2.5]\n"
     ]
    }
   ],
   "source": [
    "vec = np.full(10, 2.5)\n",
    "print(vec)"
   ]
  },
  {
   "cell_type": "markdown",
   "metadata": {},
   "source": [
    "6) Создать вектор размера 10, заполненный нулями, но пятый элемент равен 1"
   ]
  },
  {
   "cell_type": "code",
   "execution_count": 151,
   "metadata": {},
   "outputs": [
    {
     "name": "stdout",
     "output_type": "stream",
     "text": [
      "[0 0 0 0 1 0 0 0 0 0]\n"
     ]
    }
   ],
   "source": [
    "vec = np.zeros(10, dtype=int)\n",
    "vec[4] = 1\n",
    "print(vec)"
   ]
  },
  {
   "cell_type": "markdown",
   "metadata": {},
   "source": [
    "7) Создать вектор со значениями от 10 до 49"
   ]
  },
  {
   "cell_type": "code",
   "execution_count": 152,
   "metadata": {},
   "outputs": [
    {
     "name": "stdout",
     "output_type": "stream",
     "text": [
      "[10 11 12 13 14 15 16 17 18 19 20 21 22 23 24 25 26 27 28 29 30 31 32 33\n",
      " 34 35 36 37 38 39 40 41 42 43 44 45 46 47 48 49]\n"
     ]
    }
   ],
   "source": [
    "vec = np.arange(10,50)\n",
    "print(vec)"
   ]
  },
  {
   "cell_type": "markdown",
   "metadata": {},
   "source": [
    "8) Развернуть вектор (первый становится последним)"
   ]
  },
  {
   "cell_type": "code",
   "execution_count": 153,
   "metadata": {},
   "outputs": [
    {
     "name": "stdout",
     "output_type": "stream",
     "text": [
      "[10  9  8  7  6  5  4  3  2  1  0]\n"
     ]
    }
   ],
   "source": [
    "vec = np.arange(11)\n",
    "vec = vec[::-1]\n",
    "print(vec)"
   ]
  },
  {
   "cell_type": "markdown",
   "metadata": {},
   "source": [
    "9) Создать матрицу (двумерный массив) 3x3 со значениями от 0 до 8"
   ]
  },
  {
   "cell_type": "code",
   "execution_count": 154,
   "metadata": {},
   "outputs": [
    {
     "name": "stdout",
     "output_type": "stream",
     "text": [
      "[[0 1 2]\n",
      " [3 4 5]\n",
      " [6 7 8]]\n"
     ]
    }
   ],
   "source": [
    "matr = np.arange(9).reshape(3,3)\n",
    "print(matr)"
   ]
  },
  {
   "cell_type": "markdown",
   "metadata": {},
   "source": [
    "10) Найти индексы ненулевых элементов в [1,2,0,0,4,0]"
   ]
  },
  {
   "cell_type": "code",
   "execution_count": 155,
   "metadata": {},
   "outputs": [
    {
     "name": "stdout",
     "output_type": "stream",
     "text": [
      "(array([0, 1, 4]),)\n"
     ]
    }
   ],
   "source": [
    "vec = [1,2,0,0,4,0]\n",
    "nz = np.nonzero(vec)\n",
    "print(nz)"
   ]
  },
  {
   "cell_type": "markdown",
   "metadata": {},
   "source": [
    "11) Создать 3x3 единичную матрицу"
   ]
  },
  {
   "cell_type": "code",
   "execution_count": 156,
   "metadata": {},
   "outputs": [
    {
     "name": "stdout",
     "output_type": "stream",
     "text": [
      "[[1 0 0]\n",
      " [0 1 0]\n",
      " [0 0 1]]\n"
     ]
    }
   ],
   "source": [
    "e = np.eye(3, dtype=int)\n",
    "print(e)"
   ]
  },
  {
   "cell_type": "markdown",
   "metadata": {},
   "source": [
    "12) Создать массив 3x3x3 со случайными значениями"
   ]
  },
  {
   "cell_type": "code",
   "execution_count": 157,
   "metadata": {},
   "outputs": [
    {
     "name": "stdout",
     "output_type": "stream",
     "text": [
      "[[[0.30001756 0.23771122 0.13275683]\n",
      "  [0.68661347 0.99379573 0.17177489]\n",
      "  [0.2899795  0.33674426 0.54504124]]\n",
      "\n",
      " [[0.84610252 0.57297988 0.86600982]\n",
      "  [0.28465168 0.00794669 0.20507107]\n",
      "  [0.54686046 0.68106174 0.22251276]]\n",
      "\n",
      " [[0.41441065 0.0777052  0.27243512]\n",
      "  [0.2247652  0.76179759 0.37304041]\n",
      "  [0.43377422 0.08664915 0.51475297]]]\n"
     ]
    }
   ],
   "source": [
    "matr = np.random.random((3,3,3))\n",
    "print(matr)"
   ]
  },
  {
   "cell_type": "markdown",
   "metadata": {},
   "source": [
    "13) Создать массив 10x10 со случайными значениями, найти минимум и максимум"
   ]
  },
  {
   "cell_type": "code",
   "execution_count": 158,
   "metadata": {},
   "outputs": [
    {
     "name": "stdout",
     "output_type": "stream",
     "text": [
      "0.03781416251265657\n",
      "0.9993211487554221\n"
     ]
    }
   ],
   "source": [
    "matr = np.random.random((10,10))\n",
    "print(matr.min())\n",
    "print(matr.max())"
   ]
  },
  {
   "cell_type": "markdown",
   "metadata": {},
   "source": [
    "14) Создать случайный вектор размера 30 и найти среднее значение всех элементов"
   ]
  },
  {
   "cell_type": "code",
   "execution_count": 159,
   "metadata": {},
   "outputs": [
    {
     "name": "stdout",
     "output_type": "stream",
     "text": [
      "0.43554129897925414\n"
     ]
    }
   ],
   "source": [
    "vec = np.random.random(30)\n",
    "print(vec.mean())"
   ]
  },
  {
   "cell_type": "markdown",
   "metadata": {},
   "source": [
    "15) Создать матрицу с 0 внутри, и 1 на границах"
   ]
  },
  {
   "cell_type": "code",
   "execution_count": 160,
   "metadata": {},
   "outputs": [
    {
     "name": "stdout",
     "output_type": "stream",
     "text": [
      "[[1 1 1 1 1]\n",
      " [1 0 0 0 1]\n",
      " [1 0 0 0 1]\n",
      " [1 0 0 0 1]\n",
      " [1 1 1 1 1]]\n"
     ]
    }
   ],
   "source": [
    "vec = np.ones((5,5), dtype=int)\n",
    "vec[1:-1,1:-1] = 0\n",
    "print(vec)"
   ]
  },
  {
   "cell_type": "markdown",
   "metadata": {},
   "source": [
    "16) Создать 5x5 матрицу с 1,2,3,4 под диагональю"
   ]
  },
  {
   "cell_type": "code",
   "execution_count": 161,
   "metadata": {},
   "outputs": [
    {
     "name": "stdout",
     "output_type": "stream",
     "text": [
      "[[0 0 0 0 0]\n",
      " [0 1 0 0 0]\n",
      " [0 0 2 0 0]\n",
      " [0 0 0 3 0]\n",
      " [0 0 0 0 4]]\n"
     ]
    }
   ],
   "source": [
    "matr = np.diag(np.arange(0, 5))\n",
    "print(matr)"
   ]
  },
  {
   "cell_type": "markdown",
   "metadata": {},
   "source": [
    "17) Создать 8x8 матрицу и заполнить её в шахматном порядке"
   ]
  },
  {
   "cell_type": "code",
   "execution_count": 162,
   "metadata": {},
   "outputs": [
    {
     "name": "stdout",
     "output_type": "stream",
     "text": [
      "[[0 1 0 1 0 1 0 1]\n",
      " [1 0 1 0 1 0 1 0]\n",
      " [0 1 0 1 0 1 0 1]\n",
      " [1 0 1 0 1 0 1 0]\n",
      " [0 1 0 1 0 1 0 1]\n",
      " [1 0 1 0 1 0 1 0]\n",
      " [0 1 0 1 0 1 0 1]\n",
      " [1 0 1 0 1 0 1 0]]\n"
     ]
    }
   ],
   "source": [
    "vec = np.zeros((8,8), dtype=int)\n",
    "vec[1::2,::2] = 1\n",
    "vec[::2,1::2] = 1\n",
    "print(vec)"
   ]
  },
  {
   "cell_type": "markdown",
   "metadata": {},
   "source": [
    "18) Дан массив размерности (6,7,8). Каков индекс (x,y,z) сотого элемента?"
   ]
  },
  {
   "cell_type": "code",
   "execution_count": 163,
   "metadata": {},
   "outputs": [
    {
     "name": "stdout",
     "output_type": "stream",
     "text": [
      "(1, 5, 4)\n"
     ]
    }
   ],
   "source": [
    "print(np.unravel_index(100, (6,7,8)))"
   ]
  },
  {
   "cell_type": "markdown",
   "metadata": {},
   "source": [
    "19) Создать 8x8 матрицу и заполнить её в шахматном порядке, используя функцию tile"
   ]
  },
  {
   "cell_type": "code",
   "execution_count": 164,
   "metadata": {},
   "outputs": [
    {
     "name": "stdout",
     "output_type": "stream",
     "text": [
      "[[0 1 0 1 0 1 0 1]\n",
      " [1 0 1 0 1 0 1 0]\n",
      " [0 1 0 1 0 1 0 1]\n",
      " [1 0 1 0 1 0 1 0]\n",
      " [0 1 0 1 0 1 0 1]\n",
      " [1 0 1 0 1 0 1 0]\n",
      " [0 1 0 1 0 1 0 1]\n",
      " [1 0 1 0 1 0 1 0]]\n"
     ]
    }
   ],
   "source": [
    "matr = np.tile(np.array([[0,1],[1,0]]), (4,4))\n",
    "print(matr)"
   ]
  },
  {
   "cell_type": "markdown",
   "metadata": {},
   "source": [
    "20) Перемножить матрицы 5x3 и 3x2"
   ]
  },
  {
   "cell_type": "code",
   "execution_count": 165,
   "metadata": {},
   "outputs": [
    {
     "name": "stdout",
     "output_type": "stream",
     "text": [
      "[[3 3]\n",
      " [3 3]\n",
      " [3 3]\n",
      " [3 3]\n",
      " [3 3]]\n"
     ]
    }
   ],
   "source": [
    "matr = np.dot(np.ones((5,3), dtype=int), np.ones((3,2), dtype=int))\n",
    "print(matr)"
   ]
  },
  {
   "cell_type": "markdown",
   "metadata": {},
   "source": [
    "21) Дан массив, поменять знак у элементов, значения которых между 3 и 8"
   ]
  },
  {
   "cell_type": "code",
   "execution_count": 166,
   "metadata": {},
   "outputs": [
    {
     "name": "stdout",
     "output_type": "stream",
     "text": [
      "[ 0  1  2  3 -4 -5 -6 -7  8  9 10]\n"
     ]
    }
   ],
   "source": [
    "vec = np.arange(11)\n",
    "vec[(3 < vec) & (vec < 8)] *= -1\n",
    "print(vec)"
   ]
  },
  {
   "cell_type": "markdown",
   "metadata": {},
   "source": [
    "22) Создать 5x5 матрицу со значениями в строках от 0 до 4"
   ]
  },
  {
   "cell_type": "code",
   "execution_count": 167,
   "metadata": {},
   "outputs": [
    {
     "name": "stdout",
     "output_type": "stream",
     "text": [
      "[[0 1 2 3 4]\n",
      " [0 1 2 3 4]\n",
      " [0 1 2 3 4]\n",
      " [0 1 2 3 4]\n",
      " [0 1 2 3 4]]\n"
     ]
    }
   ],
   "source": [
    "matr = np.zeros((5,5), dtype=int)\n",
    "matr += np.arange(5)\n",
    "print(matr)"
   ]
  },
  {
   "cell_type": "markdown",
   "metadata": {},
   "source": [
    "23) Есть генератор, сделать с его помощью массив"
   ]
  },
  {
   "cell_type": "code",
   "execution_count": 168,
   "metadata": {},
   "outputs": [
    {
     "name": "stdout",
     "output_type": "stream",
     "text": [
      "[ 0  1  2  3  4  5  6  7  8  9 10 11 12 13 14 15 16 17 18 19]\n"
     ]
    }
   ],
   "source": [
    "def generator():\n",
    "    for el in range(20):\n",
    "        yield el\n",
    "\n",
    "vec = np.fromiter(generator(), dtype=int)\n",
    "print(vec)"
   ]
  },
  {
   "cell_type": "markdown",
   "metadata": {},
   "source": [
    "24) Создать вектор размера 10 со значениями от 0 до 1, не включая ни то, ни другое"
   ]
  },
  {
   "cell_type": "code",
   "execution_count": 169,
   "metadata": {},
   "outputs": [
    {
     "name": "stdout",
     "output_type": "stream",
     "text": [
      "[0.42547347 0.48867581 0.58791346 0.59764546 0.61842149 0.63052563\n",
      " 0.68999089 0.73124546 0.85487987 0.96385135]\n"
     ]
    }
   ],
   "source": [
    "vec = np.random.random(12)\n",
    "vec.sort()\n",
    "print(vec[1:-1])"
   ]
  },
  {
   "cell_type": "markdown",
   "metadata": {},
   "source": [
    "25) Отсортировать вектор"
   ]
  },
  {
   "cell_type": "code",
   "execution_count": 170,
   "metadata": {},
   "outputs": [
    {
     "name": "stdout",
     "output_type": "stream",
     "text": [
      "[0.09090909 0.18181818 0.27272727 0.36363636 0.45454545 0.54545455\n",
      " 0.63636364 0.72727273 0.81818182 0.90909091]\n"
     ]
    }
   ],
   "source": [
    "vec = np.linspace(0, 1, 12)[1:-1]\n",
    "print(vec)"
   ]
  },
  {
   "cell_type": "markdown",
   "metadata": {},
   "source": [
    "26) Проверить, одинаковы ли 2 numpy массива"
   ]
  },
  {
   "cell_type": "code",
   "execution_count": 171,
   "metadata": {},
   "outputs": [
    {
     "name": "stdout",
     "output_type": "stream",
     "text": [
      "[14 39  1 34 31 27  8  5 49 28 25 42  8 10 15 46  4  7 41 25]\n",
      "[33 48  4  3 49 26 19 22 39 40 39 47  5 41  5 41 16 25 18 19]\n",
      "False\n"
     ]
    }
   ],
   "source": [
    "a = np.random.randint(0, 50, 20)\n",
    "b = np.random.randint(0, 50, 20)\n",
    "print(a)\n",
    "print(b)\n",
    "print(np.allclose(a,b))"
   ]
  },
  {
   "cell_type": "markdown",
   "metadata": {},
   "source": [
    "27) Сделать массив неизменяемым"
   ]
  },
  {
   "cell_type": "code",
   "execution_count": 172,
   "metadata": {},
   "outputs": [],
   "source": [
    "vec.flags.writeable = False"
   ]
  },
  {
   "cell_type": "markdown",
   "metadata": {},
   "source": [
    "28) Дан массив 10x2 (точки в декартовой системе координат), преобразовать в полярную"
   ]
  },
  {
   "cell_type": "code",
   "execution_count": 173,
   "metadata": {},
   "outputs": [
    {
     "name": "stdout",
     "output_type": "stream",
     "text": [
      "[1.10301068 1.09227574 0.97760689 0.75633132 0.65742965 1.27276448\n",
      " 0.95279067 0.89226599 0.52942602 0.78755322] [0.69341557 0.81021191 0.54388172 0.89740143 1.09255024 0.7001718\n",
      " 1.18310303 0.57059798 0.15903718 1.53578779]\n"
     ]
    }
   ],
   "source": [
    "matr = np.random.random((10, 2))\n",
    "x = matr[:,0]\n",
    "y = matr[:,1]\n",
    "r = np.hypot(x, y)\n",
    "t = np.arctan2(y, x)\n",
    "print(r, t)"
   ]
  },
  {
   "cell_type": "markdown",
   "metadata": {},
   "source": [
    "29) Заменить максимальный элемент на ноль"
   ]
  },
  {
   "cell_type": "code",
   "execution_count": 174,
   "metadata": {},
   "outputs": [
    {
     "name": "stdout",
     "output_type": "stream",
     "text": [
      "[19 26 26 26 46 22  8 31 38 16] 46\n",
      "[19 26 26 26  0 22  8 31 38 16]\n"
     ]
    }
   ],
   "source": [
    "vec = np.random.randint(0, 50, 10)\n",
    "print(vec, vec.max())\n",
    "vec[vec.argmax()] = 0\n",
    "print(vec)"
   ]
  },
  {
   "cell_type": "markdown",
   "metadata": {},
   "source": [
    "30) Создать структурированный массив с координатами x, y на сетке в квадрате [0,1]x[0,1]"
   ]
  },
  {
   "cell_type": "code",
   "execution_count": 175,
   "metadata": {},
   "outputs": [
    {
     "name": "stdout",
     "output_type": "stream",
     "text": [
      "[[(0.  , 0.  ) (0.25, 0.25) (0.5 , 0.5 ) (0.75, 0.75) (1.  , 1.  )]\n",
      " [(0.  , 0.  ) (0.25, 0.25) (0.5 , 0.5 ) (0.75, 0.75) (1.  , 1.  )]\n",
      " [(0.  , 0.  ) (0.25, 0.25) (0.5 , 0.5 ) (0.75, 0.75) (1.  , 1.  )]\n",
      " [(0.  , 0.  ) (0.25, 0.25) (0.5 , 0.5 ) (0.75, 0.75) (1.  , 1.  )]\n",
      " [(0.  , 0.  ) (0.25, 0.25) (0.5 , 0.5 ) (0.75, 0.75) (1.  , 1.  )]]\n"
     ]
    }
   ],
   "source": [
    "vec = np.zeros((5, 5), [('x', float), ('y', float)])\n",
    "vec['x'] = np.meshgrid(np.linspace(0, 1, 5))\n",
    "vec['y'] = np.meshgrid(np.linspace(0, 1, 5))\n",
    "print(vec)"
   ]
  },
  {
   "cell_type": "markdown",
   "metadata": {},
   "source": [
    "31) Найти минимальное и максимальное значение, принимаемое каждым числовым типом numpy"
   ]
  },
  {
   "cell_type": "code",
   "execution_count": 176,
   "metadata": {},
   "outputs": [
    {
     "name": "stdout",
     "output_type": "stream",
     "text": [
      "Integers:\n",
      "<class 'numpy.int8'> -128 127\n",
      "<class 'numpy.int32'> -2147483648 2147483647\n",
      "<class 'numpy.int64'> -9223372036854775808 9223372036854775807\n",
      "Floats:\n",
      "<class 'numpy.float32'> 1.1920929e-07 -3.4028235e+38 3.4028235e+38\n",
      "<class 'numpy.float64'> 2.220446049250313e-16 -1.7976931348623157e+308 1.7976931348623157e+308\n"
     ]
    }
   ],
   "source": [
    "print('Integers:')\n",
    "for tp in [np.int8, np.int32, np.int64]:\n",
    "    print(tp, np.iinfo(tp).min, np.iinfo(tp).max)\n",
    "print('Floats:')\n",
    "for tp in [np.float32, np.float64]:\n",
    "    print(tp, np.finfo(tp).eps, np.finfo(tp).min, np.finfo(tp).max)"
   ]
  },
  {
   "cell_type": "markdown",
   "metadata": {},
   "source": [
    "32) Напечатать все значения в массиве"
   ]
  },
  {
   "cell_type": "code",
   "execution_count": 177,
   "metadata": {},
   "outputs": [
    {
     "name": "stdout",
     "output_type": "stream",
     "text": [
      "[12 14  5 18  7 16  3 10  7  6]\n"
     ]
    }
   ],
   "source": [
    "vec = np.random.randint(0, 20, 10)\n",
    "print(vec)"
   ]
  },
  {
   "cell_type": "markdown",
   "metadata": {},
   "source": [
    "33) Найти ближайшее к заданному значению число в заданном массиве"
   ]
  },
  {
   "cell_type": "code",
   "execution_count": 178,
   "metadata": {},
   "outputs": [
    {
     "name": "stdout",
     "output_type": "stream",
     "text": [
      "13.713324237058078\n",
      "14\n"
     ]
    }
   ],
   "source": [
    "vec = np.arange(50)\n",
    "nbr = np.random.uniform(0, 50)\n",
    "print(nbr)\n",
    "print(vec[(np.abs(vec - nbr)).argmin()])"
   ]
  },
  {
   "cell_type": "markdown",
   "metadata": {},
   "source": [
    "34) Создать структурированный массив, представляющий координату (x,y) и цвет (r,g,b)"
   ]
  },
  {
   "cell_type": "code",
   "execution_count": 179,
   "metadata": {},
   "outputs": [
    {
     "name": "stdout",
     "output_type": "stream",
     "text": [
      "[[((0, 0), (0, 0, 0)) ((0, 0), (0, 0, 0)) ((0, 0), (0, 0, 0))]\n",
      " [((0, 0), (0, 0, 0)) ((0, 0), (0, 0, 0)) ((0, 0), (0, 0, 0))]\n",
      " [((0, 0), (0, 0, 0)) ((0, 0), (0, 0, 0)) ((0, 0), (0, 0, 0))]]\n"
     ]
    }
   ],
   "source": [
    "vec = np.zeros((3, 3), [('position', [('x', int), ('y', int)]),\n",
    "                        ('color',    [('r', int), ('g', int), ('b', int)])])\n",
    "print(vec)"
   ]
  },
  {
   "cell_type": "markdown",
   "metadata": {},
   "source": [
    "35) Дан массив (10, 2) координат, найти расстояние от каждой точки до каждой"
   ]
  },
  {
   "cell_type": "code",
   "execution_count": 180,
   "metadata": {},
   "outputs": [
    {
     "name": "stdout",
     "output_type": "stream",
     "text": [
      "[[0.82129274 0.33462545]\n",
      " [0.85991606 0.18393184]\n",
      " [0.13404753 0.45617312]\n",
      " [0.25002087 0.83834122]\n",
      " [0.85743851 0.38849466]\n",
      " [0.6629964  0.30270977]\n",
      " [0.81223372 0.36947242]\n",
      " [0.02783706 0.53193877]\n",
      " [0.43578926 0.36542371]\n",
      " [0.21967897 0.56556027]]\n",
      "[[0.         0.15556453 0.69791103 0.76163056 0.06487225 0.16148171\n",
      "  0.03600523 0.81762122 0.38673177 0.64441448]\n",
      " [0.15556453 0.         0.77524217 0.89455227 0.20457782 0.22996859\n",
      "  0.19156959 0.90192255 0.46132725 0.74534809]\n",
      " [0.69791103 0.77524217 0.         0.39937736 0.72654999 0.5507612\n",
      "  0.68370572 0.13046493 0.31509289 0.13891829]\n",
      " [0.76163056 0.89455227 0.39937736 0.         0.75585588 0.67635037\n",
      "  0.73206642 0.37848132 0.50809533 0.27446326]\n",
      " [0.06487225 0.20457782 0.72654999 0.75585588 0.         0.21252478\n",
      "  0.04904405 0.84191139 0.42227995 0.66188327]\n",
      " [0.16148171 0.22996859 0.5507612  0.67635037 0.21252478 0.\n",
      "  0.16349015 0.67525796 0.23570345 0.51538405]\n",
      " [0.03600523 0.19156959 0.68370572 0.73206642 0.04904405 0.16349015\n",
      "  0.         0.80104522 0.37646623 0.62415669]\n",
      " [0.81762122 0.90192255 0.13046493 0.37848132 0.84191139 0.67525796\n",
      "  0.80104522 0.         0.44062713 0.19476582]\n",
      " [0.38673177 0.46132725 0.31509289 0.50809533 0.42227995 0.23570345\n",
      "  0.37646623 0.44062713 0.         0.29454762]\n",
      " [0.64441448 0.74534809 0.13891829 0.27446326 0.66188327 0.51538405\n",
      "  0.62415669 0.19476582 0.29454762 0.        ]]\n"
     ]
    }
   ],
   "source": [
    "import scipy.spatial as sp\n",
    "matr = np.random.random((10, 2))\n",
    "dist = sp.distance.cdist(matr, matr)\n",
    "print(matr)\n",
    "print(dist)"
   ]
  },
  {
   "cell_type": "markdown",
   "metadata": {},
   "source": [
    "36) Преобразовать массив из float в int"
   ]
  },
  {
   "cell_type": "code",
   "execution_count": 181,
   "metadata": {},
   "outputs": [
    {
     "name": "stdout",
     "output_type": "stream",
     "text": [
      "[3.96002675 2.0998832  8.87069177 5.37232065 0.4246939  4.04711917\n",
      " 5.39895128 5.24137972 5.74991842 9.28878536]\n",
      "[3 2 8 5 0 4 5 5 5 9]\n"
     ]
    }
   ],
   "source": [
    "vec = np.random.random(10) * 10\n",
    "print(vec)\n",
    "vec = vec.astype(np.int, copy=False)\n",
    "print(vec)"
   ]
  },
  {
   "cell_type": "markdown",
   "metadata": {},
   "source": [
    "37) Отнять среднее из каждой строки в матрице"
   ]
  },
  {
   "cell_type": "code",
   "execution_count": 182,
   "metadata": {},
   "outputs": [
    {
     "name": "stdout",
     "output_type": "stream",
     "text": [
      "[[0.73337524 0.0060671  0.08987068 0.59550841 0.98583343]\n",
      " [0.73291149 0.16124191 0.85872879 0.85418181 0.38548948]\n",
      " [0.7190278  0.00806301 0.87599568 0.47080526 0.83623521]\n",
      " [0.03180311 0.20668938 0.54691064 0.08393295 0.42030057]\n",
      " [0.59631991 0.54578316 0.60993184 0.55260859 0.91299745]]\n",
      "[[ 0.25124427 -0.47606387 -0.39226029  0.11337744  0.50370246]\n",
      " [ 0.1344008  -0.43726879  0.26021809  0.25567111 -0.21302121]\n",
      " [ 0.13700241 -0.57396238  0.29397029 -0.11122013  0.25420982]\n",
      " [-0.22612422 -0.05123795  0.28898331 -0.17399438  0.16237324]\n",
      " [-0.04720828 -0.09774503 -0.03359635 -0.0909196   0.26946926]]\n"
     ]
    }
   ],
   "source": [
    "matr = np.random.rand(5, 5)\n",
    "print(matr)\n",
    "res = matr - matr.mean(axis=1, keepdims=True)\n",
    "print(res)"
   ]
  },
  {
   "cell_type": "markdown",
   "metadata": {},
   "source": [
    "38) Отсортировать матрицу по n-ому столбцу"
   ]
  },
  {
   "cell_type": "code",
   "execution_count": 184,
   "metadata": {},
   "outputs": [
    {
     "name": "stdout",
     "output_type": "stream",
     "text": [
      "[[3 4 8 5 1]\n",
      " [3 3 3 3 5]\n",
      " [6 0 2 3 7]\n",
      " [7 1 9 7 9]\n",
      " [9 6 8 9 2]]\n"
     ]
    }
   ],
   "source": [
    "matr = np.random.randint(0, 10, (5, 5))\n",
    "n = 0\n",
    "print(matr[matr[:, n].argsort()])"
   ]
  },
  {
   "cell_type": "markdown",
   "metadata": {},
   "source": [
    "39) Определить, есть ли в 2D массиве нулевые столбцы"
   ]
  },
  {
   "cell_type": "code",
   "execution_count": 185,
   "metadata": {},
   "outputs": [
    {
     "name": "stdout",
     "output_type": "stream",
     "text": [
      "True\n"
     ]
    }
   ],
   "source": [
    "matr = np.random.randint(0, 1, (10, 10))\n",
    "print((~matr.any(axis=0)).any())"
   ]
  },
  {
   "cell_type": "markdown",
   "metadata": {},
   "source": [
    "40) Дан массив, добавить 1 к каждому элементу с индексом, заданным в другом массиве (осторожно с повторами)"
   ]
  },
  {
   "cell_type": "code",
   "execution_count": 186,
   "metadata": {},
   "outputs": [
    {
     "name": "stdout",
     "output_type": "stream",
     "text": [
      "[1 2 2 2 2 3 3 1 1 3]\n"
     ]
    }
   ],
   "source": [
    "vec = np.ones(10, dtype=int)\n",
    "ind = np.random.randint(0, len(vec), 10)\n",
    "vec += np.bincount(ind, minlength=len(vec))\n",
    "print(vec)"
   ]
  },
  {
   "cell_type": "markdown",
   "metadata": {},
   "source": [
    "41) Найти диагональные элементы произведения матриц"
   ]
  },
  {
   "cell_type": "code",
   "execution_count": 187,
   "metadata": {},
   "outputs": [
    {
     "name": "stdout",
     "output_type": "stream",
     "text": [
      "[196 110 133  79  51]\n"
     ]
    }
   ],
   "source": [
    "a = np.random.randint(0, 10, (5, 5))\n",
    "b = np.random.randint(0, 10, (5, 5))\n",
    "print(np.diag(np.dot(a, b)))"
   ]
  },
  {
   "cell_type": "markdown",
   "metadata": {},
   "source": [
    "42) Дан вектор [1, 2, 3, 4, 5], построить новый вектор с тремя нулями между каждым значением"
   ]
  },
  {
   "cell_type": "code",
   "execution_count": 188,
   "metadata": {},
   "outputs": [
    {
     "name": "stdout",
     "output_type": "stream",
     "text": [
      "[1 0 0 0 2 0 0 0 3 0 0 0 4 0 0 0 5]\n"
     ]
    }
   ],
   "source": [
    "vec = np.arange(1, 6)\n",
    "res = np.zeros(len(vec) + (len(vec) - 1) * 3, dtype=int)\n",
    "res[::4] = vec\n",
    "print(res)"
   ]
  },
  {
   "cell_type": "markdown",
   "metadata": {},
   "source": [
    "43) Поменять 2 строки в матрице"
   ]
  },
  {
   "cell_type": "code",
   "execution_count": 193,
   "metadata": {},
   "outputs": [
    {
     "name": "stdout",
     "output_type": "stream",
     "text": [
      "[[7 9 3 9 8]\n",
      " [8 3 2 9 1]\n",
      " [6 1 5 1 9]\n",
      " [0 4 1 6 7]\n",
      " [4 4 2 2 1]]\n",
      "[[8 3 2 9 1]\n",
      " [7 9 3 9 8]\n",
      " [6 1 5 1 9]\n",
      " [0 4 1 6 7]\n",
      " [4 4 2 2 1]]\n"
     ]
    }
   ],
   "source": [
    "matr = np.random.randint(0, 10, (5, 5))\n",
    "print(matr)\n",
    "matr[[0,1]] = matr[[1,0]]\n",
    "print(matr)"
   ]
  }
 ],
 "metadata": {
  "kernelspec": {
   "display_name": "Python 3",
   "language": "python",
   "name": "python3"
  },
  "language_info": {
   "codemirror_mode": {
    "name": "ipython",
    "version": 3
   },
   "file_extension": ".py",
   "mimetype": "text/x-python",
   "name": "python",
   "nbconvert_exporter": "python",
   "pygments_lexer": "ipython3",
   "version": "3.6.9"
  }
 },
 "nbformat": 4,
 "nbformat_minor": 2
}
