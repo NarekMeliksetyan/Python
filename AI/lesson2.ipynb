{
 "cells": [
  {
   "cell_type": "markdown",
   "metadata": {},
   "source": [
    "### Задача 1.\n",
    "Написать функцию вычисления периметр и площадь прямоугольного треугольника по длинам а и b двух катетов."
   ]
  },
  {
   "cell_type": "code",
   "execution_count": 5,
   "metadata": {
    "scrolled": true
   },
   "outputs": [
    {
     "name": "stdout",
     "output_type": "stream",
     "text": [
      "5\n",
      "6\n",
      "15.0\n"
     ]
    }
   ],
   "source": [
    "def triangle_square(a, b):\n",
    "    return a * b / 2"
   ]
  },
  {
   "cell_type": "markdown",
   "metadata": {},
   "source": [
    "### Задача 2.\n",
    "Написать функцию, которая по известной длине окружности, выведет на экран  площадь круга, ограниченного этой окружностью."
   ]
  },
  {
   "cell_type": "code",
   "execution_count": 3,
   "metadata": {},
   "outputs": [],
   "source": [
    "import math\n",
    "\n",
    "def round_square(l):\n",
    "    r = l / (2 * math.pi)\n",
    "    return math.pi * pi * r"
   ]
  },
  {
   "cell_type": "markdown",
   "metadata": {},
   "source": [
    "### Задача 3.\n",
    "Написать функцию, которая найдет сумму членов арифметической прогрессии, если известны ее первый член, знаменатель и число членов прогрессии."
   ]
  },
  {
   "cell_type": "code",
   "execution_count": 2,
   "metadata": {},
   "outputs": [],
   "source": [
    "def progr_sum(a1, d, n):\n",
    "    an = a1 + ((n - 1) * d)\n",
    "    return (a1 + an) * n / 2"
   ]
  },
  {
   "cell_type": "markdown",
   "metadata": {},
   "source": [
    "### Задача 4.\n",
    "Написать функцию перевода радианной меры угла в градусы, минуты и секунды."
   ]
  },
  {
   "cell_type": "code",
   "execution_count": 1,
   "metadata": {},
   "outputs": [],
   "source": [
    "def rtd(rad):\n",
    "    res = list()\n",
    "    degs = rad * 180 / pi\n",
    "    mins = (degs - int(degs)) * 60\n",
    "    secs = (mins - int(mins)) * 60  \n",
    "    res.append(int(degs))\n",
    "    res.append(int(mins))\n",
    "    res.append(int(secs))\n",
    "    return res"
   ]
  },
  {
   "cell_type": "markdown",
   "metadata": {},
   "source": [
    "### Задача 5.\n",
    "Написать функцию, которая на вход получает два угла треугольника (в градусах) и определяет, существует ли такой треугольник, и если да, то будет ли он прямоугольным"
   ]
  },
  {
   "cell_type": "code",
   "execution_count": null,
   "metadata": {},
   "outputs": [],
   "source": [
    "def is_triangle_exists(a1, a2):\n",
    "    a3 = 180 - a1 - a2\n",
    "    if (a3 > 0):\n",
    "        return True\n",
    "    else:\n",
    "        return False"
   ]
  },
  {
   "cell_type": "markdown",
   "metadata": {},
   "source": [
    "### Задача 6.\n",
    "Написать функцию, на вход которой поступает произвольное число целых чисел. Если числа не равны, то заменить каждое из них одним и тем же числом, равным большему из исходных, а если равны, то заменить числа нулями."
   ]
  },
  {
   "cell_type": "code",
   "execution_count": null,
   "metadata": {},
   "outputs": [],
   "source": [
    "def get_max_or_0(a, b, c):\n",
    "    if (a == b == c):\n",
    "        return 0\n",
    "    else:\n",
    "        return max(a, b, c)"
   ]
  },
  {
   "cell_type": "markdown",
   "metadata": {},
   "source": [
    "### Задача 7.\n",
    "Написать функцию подсчета количества отрицательных чисел. На вход произвольное количество чисел"
   ]
  },
  {
   "cell_type": "code",
   "execution_count": null,
   "metadata": {},
   "outputs": [],
   "source": [
    "def count_neg(*lst):\n",
    "    count = 0\n",
    "    for el in lst:\n",
    "        if (el < 0):\n",
    "            count += 1\n",
    "    return count"
   ]
  },
  {
   "cell_type": "markdown",
   "metadata": {},
   "source": [
    "### Задача 8.\n",
    "Написать функцию подсчета количество положительных  чисел. На вход произвольное количество чисел"
   ]
  },
  {
   "cell_type": "code",
   "execution_count": 4,
   "metadata": {},
   "outputs": [],
   "source": [
    "def count_pos(*lst):\n",
    "    count = 0\n",
    "    for el in lst:\n",
    "        if (el > 0):\n",
    "            count += 1\n",
    "    return count"
   ]
  },
  {
   "cell_type": "markdown",
   "metadata": {},
   "source": [
    "### Задача 9.\n",
    "Написать функцию подсчета количество целых чисел. На вход произвольное количество чисел"
   ]
  },
  {
   "cell_type": "code",
   "execution_count": null,
   "metadata": {},
   "outputs": [],
   "source": [
    "def count_int(*lst):\n",
    "    count = 0\n",
    "    for el in lst:\n",
    "        if (int(el) == float(el)):\n",
    "            count += 1\n",
    "    return count"
   ]
  },
  {
   "cell_type": "markdown",
   "metadata": {},
   "source": [
    "### Задача10.\n",
    "Написать функцию. на вход поступает строка, содержащая произвольный русский текст. Написать, какие буквы и сколько раз встречаются в этом тексте. Ответ должен приводиться в грамматически правильной форме, например а — 25 раз, к — 3 раза и т.д."
   ]
  },
  {
   "cell_type": "code",
   "execution_count": null,
   "metadata": {},
   "outputs": [],
   "source": [
    "def count_letters(mystr):\n",
    "    dic = dict()\n",
    "    letts = list(mystr)\n",
    "    for let in letts:\n",
    "        if (let in dic):\n",
    "            dic[let] += 1\n",
    "        else:\n",
    "            dic[let] = 1\n",
    "    for key in dic.keys():\n",
    "        print(str(key) + \" - \" + str(dic[key]) + \" раз\")"
   ]
  },
  {
   "cell_type": "markdown",
   "metadata": {},
   "source": [
    "### Задача 11.\n",
    "Написать функцию, которая выводит на экран слова из строки, содержащие три буквы"
   ]
  },
  {
   "cell_type": "code",
   "execution_count": null,
   "metadata": {},
   "outputs": [],
   "source": [
    "def print_words(mystr):\n",
    "    dic = dict()\n",
    "    words = mystr.split(' ')\n",
    "    for word in words:\n",
    "        if (len(word) == 3):\n",
    "            print(word)"
   ]
  },
  {
   "cell_type": "markdown",
   "metadata": {},
   "source": [
    "### Задача 12.\n",
    "Написать функцию.Дан набор слов, разделенных точкой с запятой (;). Набор заканчивается двоеточием (:). Определить, сколько в нем слов, заканчивающихся буквой а."
   ]
  },
  {
   "cell_type": "code",
   "execution_count": null,
   "metadata": {},
   "outputs": [],
   "source": [
    "def count_a_words(mystr):\n",
    "    prev = 0\n",
    "    count = 0\n",
    "    letts = list(mystr)\n",
    "    prev = letts[0]\n",
    "    for i in range(1,len(letts)):\n",
    "        if (prev == 'a' and letts[i] == ';'):\n",
    "            count += 1\n",
    "        if (prev == 'a' and letts[i] == ':'):\n",
    "            count += 1\n",
    "            break\n",
    "        prev = letts[i]\n",
    "    return count"
   ]
  },
  {
   "cell_type": "markdown",
   "metadata": {},
   "source": [
    "### Задача 13.\n",
    "Написать функцию, на вход поступает число в двоичной системе счисления в виде строки. Проверить правильность ввода этого числа (в его записи должны быть только символы 0 и 1). Если число введено неверно, повторить ввод. При правильном вводе перевести число в десятичную систему счисления."
   ]
  },
  {
   "cell_type": "code",
   "execution_count": null,
   "metadata": {},
   "outputs": [],
   "source": [
    "def binar_to_dec(bnum):\n",
    "    bnums = list(str(bnum));\n",
    "    for num in bnums:\n",
    "        if (num not in ('0', '1')):\n",
    "            print(\"Enter number again:\", end=' ')\n",
    "            bnum = input()\n",
    "            return binar_to_dec(bnum)\n",
    "    return int(bnum, 2)"
   ]
  },
  {
   "cell_type": "markdown",
   "metadata": {},
   "source": [
    "### Задача 14.\n",
    "Написать функцию, по перебору всех пар символов в строке, и остановиться при нахождении двух одинаковых символов и вывести их на экран"
   ]
  },
  {
   "cell_type": "code",
   "execution_count": null,
   "metadata": {},
   "outputs": [],
   "source": [
    "def find_repeates(mystr):\n",
    "    letts = list(mystr)\n",
    "    dic = dict()\n",
    "\n",
    "    for let in letts:\n",
    "        if (let in dic):\n",
    "            print(let + ' ' + let)\n",
    "            return\n",
    "        else:\n",
    "            dic[let] = 1\n",
    "    print(\"No repeating letters\")"
   ]
  },
  {
   "cell_type": "markdown",
   "metadata": {},
   "source": [
    "### Задача 15.\n",
    "Создать текстовый файл, записать в него построчно данные, которые вводит пользователь. Окончанием ввода пусть служит пустая строка."
   ]
  },
  {
   "cell_type": "code",
   "execution_count": null,
   "metadata": {},
   "outputs": [],
   "source": [
    "with open('test.txt', 'w') as fd:\n",
    "    while True:\n",
    "        mystr = input()\n",
    "        if (not mystr):\n",
    "            break\n",
    "        fd.write(mystr + '\\n')"
   ]
  },
  {
   "cell_type": "markdown",
   "metadata": {},
   "source": [
    "### Задача 16.\n",
    "Дан файл, содержащий текст, записанный строчными русскими буквами. Получить в другом файле тот же текст, записанный заглавными буквами."
   ]
  },
  {
   "cell_type": "code",
   "execution_count": null,
   "metadata": {},
   "outputs": [],
   "source": [
    "fd_in = open('input.txt', 'r')\n",
    "fd_out =  open('output.txt', 'w')\n",
    "\n",
    "for line in fd_in:\n",
    "    fd_out.write(line)\n",
    "\n",
    "fd_in.close()\n",
    "fd_out.close()"
   ]
  },
  {
   "cell_type": "markdown",
   "metadata": {},
   "source": [
    "### Задача 18.\n",
    "В текстовом файле посчитать количество строк, а также для каждой отдельной строки определить количество в ней символов и слов"
   ]
  },
  {
   "cell_type": "code",
   "execution_count": null,
   "metadata": {},
   "outputs": [],
   "source": [
    "def count_words(mystr):\n",
    "    flag = 0\n",
    "    count = 0\n",
    "    letters = list(mystr)\n",
    "    for let in mystr:\n",
    "        if (let != ' ' and flag == 0):\n",
    "            flag = 1\n",
    "            count += 1\n",
    "        elif let == ' ':\n",
    "            flag = 0\n",
    "    return count\n",
    "\n",
    "with open('input.txt', 'r') as fd:\n",
    "    count = 0\n",
    "    for line in fd:\n",
    "        count += 1\n",
    "        print(line + str(len(line)) + ' ' + str(count_words(line)))\n",
    "    print(count)"
   ]
  },
  {
   "cell_type": "markdown",
   "metadata": {},
   "source": [
    "### Задача 19.\n",
    "Дан файл, который содержит номера телефонов сотрудников учреждения: указываются фамилия, инициалы и номер телефона. Найти номер телефона сотрудника по его фамилии и инициалам. (данные указаны через запятую)"
   ]
  },
  {
   "cell_type": "code",
   "execution_count": null,
   "metadata": {},
   "outputs": [],
   "source": [
    "def get_abonents(file_name):\n",
    "    abonents = dict()\n",
    "    with open(file_name) as fd:\n",
    "        for line in fd:\n",
    "            splited = line.split(',')\n",
    "            name = str(splited[0] + splited[1]).replace(' ', '')\n",
    "            number = int(splited[2])\n",
    "            abonents[name] = number\n",
    "    return abonents\n",
    "\n",
    "def find_by_name(l_name, initials):\n",
    "    name = str(l_name + initials).replace(' ', '')\n",
    "    abonents = get_abonents(\"abonents.txt\")\n",
    "    return abonents[name]"
   ]
  },
  {
   "cell_type": "markdown",
   "metadata": {},
   "source": [
    "### Задача 20.\n",
    "Реализовать в виде модуля набор подпрограмм для выполнения следующих операций над комплексными числами:\n",
    "\n",
    "1) сложения;\n",
    "\n",
    "2) вычитания;\n",
    "\n",
    "3) умножения;\n",
    "\n",
    "4) деления;\n",
    "\n",
    "5) модуля комплексного числа;\n",
    "\n",
    "6) возведения комплексного числа в степень п (п — натуральное)."
   ]
  },
  {
   "cell_type": "code",
   "execution_count": null,
   "metadata": {},
   "outputs": [],
   "source": [
    "from math import sqrt, sin, cos, exp\n",
    "\n",
    "def complex_sum(a1, b1, a2, b2):\n",
    "    res = list()\n",
    "    res.append(a1 + a2)\n",
    "    res.append(b1 + b2)\n",
    "    return res\n",
    "\n",
    "def complex_sub(a1, b1, a2, b2):\n",
    "    res = list()\n",
    "    res.append(a1 - a2)\n",
    "    res.append(b1 - b2)\n",
    "    return res\n",
    "\n",
    "def complex_mul(a1, b1, a2, b2):\n",
    "    res = list()\n",
    "    res.append(a1*a2 - b1*b2)\n",
    "    res.append(a1*b2 + a2*b1)\n",
    "    return res\n",
    "\n",
    "def complex_div(a1, b1, a2, b2):\n",
    "    res = list()\n",
    "    sqr = a2*a2 + b2*b2\n",
    "    res.append((a1*a2 + b1*b2) / sqr)\n",
    "    res.append((a2*b1 - a1*b2) / sqr)\n",
    "    return res\n",
    "\n",
    "def complex_abs(a1, b1):\n",
    "    return sqrt(a1*a1 + b1*b1)\n",
    "\n",
    "def complex_arg(a1, b1):\n",
    "    return b1 / a1\n",
    "\n",
    "def complex_pow(a1, b1, p):\n",
    "    res = list()\n",
    "    absn = complex_abs(a1, b1) ** p\n",
    "    argn = complex_arg(a1, b1) * p\n",
    "    res.append(absn * cos(argn))\n",
    "    res.append(absn * sin(argn))\n",
    "    return res"
   ]
  },
  {
   "cell_type": "markdown",
   "metadata": {},
   "source": [
    "### Задача 21.\n",
    "Реализовать в виде модуля набор подпрограмм для выполнения следующих операций с .квадратными матрицами:\n",
    "\n",
    "1) сложения двух матриц;\n",
    "\n",
    "2) умножения одной матрицы на другую;\n",
    "\n",
    "3) нахождения транспонированной матрицы;\n",
    "\n",
    "4) вычисления определителя матрицы."
   ]
  },
  {
   "cell_type": "code",
   "execution_count": null,
   "metadata": {},
   "outputs": [],
   "source": [
    "def matrix_sum(m1, m2):\n",
    "    rows1 = len(m1)\n",
    "    cols1 = len(m1[0])\n",
    "    rows2 = len(m2)\n",
    "    cols2 = len(m2[0])\n",
    "    res = list()\n",
    "    if (rows1 != rows2 or cols1 != cols2):\n",
    "        return 0\n",
    "    for i in range(rows1):\n",
    "        res.append(list())\n",
    "        for j in range(cols1):\n",
    "            res[i].append(0)\n",
    "            res[i][j] = m1[i][j] + m2[i][j]\n",
    "    return res\n",
    "\n",
    "def matrix_mul(m1, m2):\n",
    "    rows1 = len(m1)\n",
    "    cols1 = len(m1[0])\n",
    "    rows2 = len(m2)\n",
    "    cols2 = len(m2[0])\n",
    "    res = list()\n",
    "    if (rows1 != cols2):\n",
    "        return 0\n",
    "    for i in range(rows1):\n",
    "        res.append(list())\n",
    "        for j in range(cols2):\n",
    "            res[i].append(0)\n",
    "            for k in range(rows2):\n",
    "                res[i][j] += m1[i][k] * m2[k][j]\n",
    "    return res\n",
    "\n",
    "def transp(m1):\n",
    "    rows = len(m1)\n",
    "    cols = len(m1[0])\n",
    "    res = list()\n",
    "    if (rows != cols):\n",
    "        return 0\n",
    "    for i in range(rows):\n",
    "        res.append(list())\n",
    "        for j in range(cols):\n",
    "            res[i].append(0)\n",
    "            res[i][j] = m1[j][i]\n",
    "    return res\n",
    "\n",
    "def det2(m1):\n",
    "    return m1[0][0] * m1[1][1] - m1[0][1] * m1[1][0]\n",
    "\n",
    "def minor(m1, i, j):\n",
    "    temp = [row for k, row in enumerate(m1) if k != i]\n",
    "    temp = [col for k, col in enumerate(zip(*temp)) if k != j]\n",
    "    return temp\n",
    "\n",
    "def det(m1):\n",
    "    rows = len(m1)\n",
    "    cols = len(m1[0])\n",
    "    res = 0\n",
    "    if (rows != cols):\n",
    "        return 0\n",
    "    if rows == 2:\n",
    "        return det2(m1)\n",
    "    for j in range(rows):\n",
    "        res += (-1) ** j * m1[0][j] * det(minor(m1, 0, j))\n",
    "    return res"
   ]
  },
  {
   "cell_type": "markdown",
   "metadata": {},
   "source": [
    "### Задача 22.\n",
    "Класс дробное число со знаком (Fractions). Число должно быть представлено двумя полями: целая часть - длинное целое со знаком, дробная часть - беззнаковое короткое целое. Реализовать арифметические операции сложения, вычитания, умножения и операции сравнения. В функции проверить эти методы."
   ]
  },
  {
   "cell_type": "code",
   "execution_count": null,
   "metadata": {},
   "outputs": [],
   "source": [
    "# Код"
   ]
  },
  {
   "cell_type": "markdown",
   "metadata": {},
   "source": [
    "### Задача 23.\n",
    "Построить описание класса, содержащего информацию о почтовом адресе организации. Предусмотреть возможность раздельного изменения составных частей адреса, создания и уничтожения объектов этого класса"
   ]
  },
  {
   "cell_type": "code",
   "execution_count": null,
   "metadata": {},
   "outputs": [],
   "source": [
    "# Код"
   ]
  },
  {
   "cell_type": "markdown",
   "metadata": {},
   "source": [
    "### Задача 24.\n",
    "Написать класс, для описания книг в книжном магазине. В классе описано название книги, кол-во на складе, стоимость. Должны быть предусмотрены методы для добавления и удаления книг. И вывода списка доступных книг"
   ]
  },
  {
   "cell_type": "code",
   "execution_count": null,
   "metadata": {},
   "outputs": [],
   "source": [
    "# Код"
   ]
  },
  {
   "cell_type": "markdown",
   "metadata": {},
   "source": [
    "### Задача 25.\n",
    "Разработать программу - весы, которая будет взвешивать определенные объекты. Объекты должны быть заранее установлены в программу."
   ]
  },
  {
   "cell_type": "code",
   "execution_count": null,
   "metadata": {},
   "outputs": [],
   "source": [
    "# Код"
   ]
  },
  {
   "cell_type": "markdown",
   "metadata": {},
   "source": [
    "## Задача 26.\n",
    "Разработать программу, которая будет как \"магический\" шар выдавать случайный результат. К примеру, вы ей задаете вопрос: \"..... . .. ... .. ?\", а она выдает вам результат из предложенного:\n",
    "- Да\n",
    "- Нет\n",
    "- Скорее всего да\n",
    "- Скорее всего нет\n",
    "- Возможно\n",
    "- Имеются перспективы\n",
    "- Вопрос задан неверно"
   ]
  },
  {
   "cell_type": "code",
   "execution_count": null,
   "metadata": {},
   "outputs": [],
   "source": [
    "# Код"
   ]
  },
  {
   "cell_type": "markdown",
   "metadata": {},
   "source": [
    "### Задача 27.\n",
    "Разработать программу, которая будет задавать вам загадки, а вы должны будете угадать правильный ответ. Скачайте какую-либо текстовую базу загадок и настройте программу так, чтобы она распознавала загадки и ответ и пользователь мог с ней спокойно взаимодействовать. Выводите какой-либо результат."
   ]
  },
  {
   "cell_type": "code",
   "execution_count": null,
   "metadata": {},
   "outputs": [],
   "source": [
    "# Код"
   ]
  },
  {
   "cell_type": "markdown",
   "metadata": {},
   "source": [
    "### Задача 28.\n",
    "Разработать программу - весы, которая будет взвешивать определенные объекты. Объекты должны быть заранее установлены в программу."
   ]
  },
  {
   "cell_type": "code",
   "execution_count": null,
   "metadata": {},
   "outputs": [],
   "source": [
    "# Код"
   ]
  }
 ],
 "metadata": {
  "kernelspec": {
   "display_name": "Python 3",
   "language": "python",
   "name": "python3"
  },
  "language_info": {
   "codemirror_mode": {
    "name": "ipython",
    "version": 3
   },
   "file_extension": ".py",
   "mimetype": "text/x-python",
   "name": "python",
   "nbconvert_exporter": "python",
   "pygments_lexer": "ipython3",
   "version": "3.6.9"
  }
 },
 "nbformat": 4,
 "nbformat_minor": 2
}
